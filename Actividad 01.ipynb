{
 "cells": [
  {
   "cell_type": "markdown",
   "metadata": {},
   "source": [
    "# ¿Que son los repositorios de código o programación?\n",
    "\n",
    "Un repositorio, es un tipo de almacenamiento digital un lugar donde almacenar y controlar las versiones del codigó. Cuando se trabaja con un equipo es muy importante llevar control historico de los cambios hechos en el proyecto, principalmente para controlar lor errores que van surgiendo en el proyecto.\n",
    "\n",
    "# ¿Que repositorios hay?\n",
    "\n",
    "- Bitbucket\n",
    "- GitHub\n",
    "- Gitlab\n",
    "- Repositorios privados gratuitos menos conocidos \n",
    "\n",
    "# ¿Que es Git y que es GitHub?\n",
    "\n",
    "Un Git en una herramienta que nos permite administrar las diferentes versiones del código en que trabajamos. Podemos decir que de nuestro código inicial podemos llegar a nuevas ideas por ende abran distintas versiones del código original y esta herramienta nos permite almacenar o guardar todas estas versiones del código dándonos la habilidad de poder volver a versiones anterior si hay fallas durante el proceso de coding o si simplemente se decide volver atrás. También se pueden hacer notas en cada versión. Sirve para trabajar en conjunto con colaboradores.\n",
    "\n",
    "GitHub es una plataforma que almacena repositorios de código en la nube, así muchos desarrolladores pueden trabajar en un solo proyecto y ver los cambios hechos por otros en tiempo real. También tiene herramientas de proyectos y gestión, se pueden asignar tareas a individuos o grupos, dar permisos, agregar colaboradores y agregar comentarios de moderación y tienen versión publica para codificación social.\n",
    "\n"
   ]
  }
 ],
 "metadata": {
  "kernelspec": {
   "display_name": "Python 3",
   "language": "python",
   "name": "python3"
  },
  "language_info": {
   "name": "python",
   "version": "3.12.6"
  }
 },
 "nbformat": 4,
 "nbformat_minor": 2
}
